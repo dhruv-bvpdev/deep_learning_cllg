{
  "nbformat": 4,
  "nbformat_minor": 0,
  "metadata": {
    "colab": {
      "provenance": [],
      "mount_file_id": "1gIvp3DbpTRYUu-RmA_AjXozw-MgS1H6a",
      "authorship_tag": "ABX9TyMmvntN0O4voU7Cm+QWKL4X",
      "include_colab_link": true
    },
    "kernelspec": {
      "name": "python3",
      "display_name": "Python 3"
    },
    "language_info": {
      "name": "python"
    }
  },
  "cells": [
    {
      "cell_type": "markdown",
      "metadata": {
        "id": "view-in-github",
        "colab_type": "text"
      },
      "source": [
        "<a href=\"https://colab.research.google.com/github/dhruv-bvpdev/deep_learning_cllg/blob/main/MobileData.ipynb\" target=\"_parent\"><img src=\"https://colab.research.google.com/assets/colab-badge.svg\" alt=\"Open In Colab\"/></a>"
      ]
    },
    {
      "cell_type": "code",
      "source": [
        "# 1.0 Call libraries\n",
        "import pandas as pd\n",
        "import numpy as np\n",
        "from  pathlib import Path\n",
        "\n",
        "# 1.0.1\n",
        "import tensorflow as tf\n",
        "from tensorflow import keras\n",
        "from tensorflow.keras import layers"
      ],
      "metadata": {
        "id": "auumIde9pRpI"
      },
      "execution_count": null,
      "outputs": []
    },
    {
      "cell_type": "code",
      "execution_count": null,
      "metadata": {
        "id": "cdInrWCjpBfI"
      },
      "outputs": [],
      "source": [
        "# 1.1 Display multiple commands output from a cell\n",
        "from IPython.core.interactiveshell import InteractiveShell\n",
        "InteractiveShell.ast_node_interactivity = \"all\""
      ]
    },
    {
      "cell_type": "code",
      "source": [
        "# 2.0\n",
        "from google.colab import drive\n",
        "drive.mount('/gdrive')"
      ],
      "metadata": {
        "colab": {
          "base_uri": "https://localhost:8080/"
        },
        "id": "zNyybQ9apTlx",
        "outputId": "ed0d7879-3776-4e3d-d913-ee96a25a2935"
      },
      "execution_count": null,
      "outputs": [
        {
          "output_type": "stream",
          "name": "stdout",
          "text": [
            "Drive already mounted at /gdrive; to attempt to forcibly remount, call drive.mount(\"/gdrive\", force_remount=True).\n"
          ]
        }
      ]
    },
    {
      "cell_type": "code",
      "source": [
        "# 2.1 Where is our data file:\n",
        "pathToFolder = \"/gdrive/MyDrive/deeplearning\""
      ],
      "metadata": {
        "id": "cESgqkDIpktM"
      },
      "execution_count": null,
      "outputs": []
    },
    {
      "cell_type": "code",
      "source": [
        "# 2.2 Full file path:\n",
        "path = Path(pathToFolder) / \"mobile_price.csv\""
      ],
      "metadata": {
        "id": "qVjjwMD7poH1"
      },
      "execution_count": null,
      "outputs": []
    },
    {
      "cell_type": "code",
      "source": [
        "# 3.0 Read data\n",
        "mobile_price = pd.read_csv(path)\n",
        "mobile_price.head()"
      ],
      "metadata": {
        "colab": {
          "base_uri": "https://localhost:8080/",
          "height": 299
        },
        "id": "ed4Ya_LJprDx",
        "outputId": "fb4d2b47-2666-4465-f296-2d790f3f070f"
      },
      "execution_count": null,
      "outputs": [
        {
          "output_type": "execute_result",
          "data": {
            "text/plain": [
              "   battery_power  blue  clock_speed  dual_sim  fc  four_g  int_memory  m_dep  \\\n",
              "0            842     0          2.2         0   1       0           7    0.6   \n",
              "1           1021     1          0.5         1   0       1          53    0.7   \n",
              "2            563     1          0.5         1   2       1          41    0.9   \n",
              "3            615     1          2.5         0   0       0          10    0.8   \n",
              "4           1821     1          1.2         0  13       1          44    0.6   \n",
              "\n",
              "   mobile_wt  n_cores  ...  px_height  px_width   ram  sc_h  sc_w  talk_time  \\\n",
              "0        188        2  ...         20       756  2549     9     7         19   \n",
              "1        136        3  ...        905      1988  2631    17     3          7   \n",
              "2        145        5  ...       1263      1716  2603    11     2          9   \n",
              "3        131        6  ...       1216      1786  2769    16     8         11   \n",
              "4        141        2  ...       1208      1212  1411     8     2         15   \n",
              "\n",
              "   three_g  touch_screen  wifi  price_range  \n",
              "0        0             0     1            1  \n",
              "1        1             1     0            2  \n",
              "2        1             1     0            2  \n",
              "3        1             0     0            2  \n",
              "4        1             1     0            1  \n",
              "\n",
              "[5 rows x 21 columns]"
            ],
            "text/html": [
              "\n",
              "\n",
              "  <div id=\"df-c6d47cff-45e9-478b-812e-a6a3d104f4ea\">\n",
              "    <div class=\"colab-df-container\">\n",
              "      <div>\n",
              "<style scoped>\n",
              "    .dataframe tbody tr th:only-of-type {\n",
              "        vertical-align: middle;\n",
              "    }\n",
              "\n",
              "    .dataframe tbody tr th {\n",
              "        vertical-align: top;\n",
              "    }\n",
              "\n",
              "    .dataframe thead th {\n",
              "        text-align: right;\n",
              "    }\n",
              "</style>\n",
              "<table border=\"1\" class=\"dataframe\">\n",
              "  <thead>\n",
              "    <tr style=\"text-align: right;\">\n",
              "      <th></th>\n",
              "      <th>battery_power</th>\n",
              "      <th>blue</th>\n",
              "      <th>clock_speed</th>\n",
              "      <th>dual_sim</th>\n",
              "      <th>fc</th>\n",
              "      <th>four_g</th>\n",
              "      <th>int_memory</th>\n",
              "      <th>m_dep</th>\n",
              "      <th>mobile_wt</th>\n",
              "      <th>n_cores</th>\n",
              "      <th>...</th>\n",
              "      <th>px_height</th>\n",
              "      <th>px_width</th>\n",
              "      <th>ram</th>\n",
              "      <th>sc_h</th>\n",
              "      <th>sc_w</th>\n",
              "      <th>talk_time</th>\n",
              "      <th>three_g</th>\n",
              "      <th>touch_screen</th>\n",
              "      <th>wifi</th>\n",
              "      <th>price_range</th>\n",
              "    </tr>\n",
              "  </thead>\n",
              "  <tbody>\n",
              "    <tr>\n",
              "      <th>0</th>\n",
              "      <td>842</td>\n",
              "      <td>0</td>\n",
              "      <td>2.2</td>\n",
              "      <td>0</td>\n",
              "      <td>1</td>\n",
              "      <td>0</td>\n",
              "      <td>7</td>\n",
              "      <td>0.6</td>\n",
              "      <td>188</td>\n",
              "      <td>2</td>\n",
              "      <td>...</td>\n",
              "      <td>20</td>\n",
              "      <td>756</td>\n",
              "      <td>2549</td>\n",
              "      <td>9</td>\n",
              "      <td>7</td>\n",
              "      <td>19</td>\n",
              "      <td>0</td>\n",
              "      <td>0</td>\n",
              "      <td>1</td>\n",
              "      <td>1</td>\n",
              "    </tr>\n",
              "    <tr>\n",
              "      <th>1</th>\n",
              "      <td>1021</td>\n",
              "      <td>1</td>\n",
              "      <td>0.5</td>\n",
              "      <td>1</td>\n",
              "      <td>0</td>\n",
              "      <td>1</td>\n",
              "      <td>53</td>\n",
              "      <td>0.7</td>\n",
              "      <td>136</td>\n",
              "      <td>3</td>\n",
              "      <td>...</td>\n",
              "      <td>905</td>\n",
              "      <td>1988</td>\n",
              "      <td>2631</td>\n",
              "      <td>17</td>\n",
              "      <td>3</td>\n",
              "      <td>7</td>\n",
              "      <td>1</td>\n",
              "      <td>1</td>\n",
              "      <td>0</td>\n",
              "      <td>2</td>\n",
              "    </tr>\n",
              "    <tr>\n",
              "      <th>2</th>\n",
              "      <td>563</td>\n",
              "      <td>1</td>\n",
              "      <td>0.5</td>\n",
              "      <td>1</td>\n",
              "      <td>2</td>\n",
              "      <td>1</td>\n",
              "      <td>41</td>\n",
              "      <td>0.9</td>\n",
              "      <td>145</td>\n",
              "      <td>5</td>\n",
              "      <td>...</td>\n",
              "      <td>1263</td>\n",
              "      <td>1716</td>\n",
              "      <td>2603</td>\n",
              "      <td>11</td>\n",
              "      <td>2</td>\n",
              "      <td>9</td>\n",
              "      <td>1</td>\n",
              "      <td>1</td>\n",
              "      <td>0</td>\n",
              "      <td>2</td>\n",
              "    </tr>\n",
              "    <tr>\n",
              "      <th>3</th>\n",
              "      <td>615</td>\n",
              "      <td>1</td>\n",
              "      <td>2.5</td>\n",
              "      <td>0</td>\n",
              "      <td>0</td>\n",
              "      <td>0</td>\n",
              "      <td>10</td>\n",
              "      <td>0.8</td>\n",
              "      <td>131</td>\n",
              "      <td>6</td>\n",
              "      <td>...</td>\n",
              "      <td>1216</td>\n",
              "      <td>1786</td>\n",
              "      <td>2769</td>\n",
              "      <td>16</td>\n",
              "      <td>8</td>\n",
              "      <td>11</td>\n",
              "      <td>1</td>\n",
              "      <td>0</td>\n",
              "      <td>0</td>\n",
              "      <td>2</td>\n",
              "    </tr>\n",
              "    <tr>\n",
              "      <th>4</th>\n",
              "      <td>1821</td>\n",
              "      <td>1</td>\n",
              "      <td>1.2</td>\n",
              "      <td>0</td>\n",
              "      <td>13</td>\n",
              "      <td>1</td>\n",
              "      <td>44</td>\n",
              "      <td>0.6</td>\n",
              "      <td>141</td>\n",
              "      <td>2</td>\n",
              "      <td>...</td>\n",
              "      <td>1208</td>\n",
              "      <td>1212</td>\n",
              "      <td>1411</td>\n",
              "      <td>8</td>\n",
              "      <td>2</td>\n",
              "      <td>15</td>\n",
              "      <td>1</td>\n",
              "      <td>1</td>\n",
              "      <td>0</td>\n",
              "      <td>1</td>\n",
              "    </tr>\n",
              "  </tbody>\n",
              "</table>\n",
              "<p>5 rows × 21 columns</p>\n",
              "</div>\n",
              "      <button class=\"colab-df-convert\" onclick=\"convertToInteractive('df-c6d47cff-45e9-478b-812e-a6a3d104f4ea')\"\n",
              "              title=\"Convert this dataframe to an interactive table.\"\n",
              "              style=\"display:none;\">\n",
              "\n",
              "  <svg xmlns=\"http://www.w3.org/2000/svg\" height=\"24px\"viewBox=\"0 0 24 24\"\n",
              "       width=\"24px\">\n",
              "    <path d=\"M0 0h24v24H0V0z\" fill=\"none\"/>\n",
              "    <path d=\"M18.56 5.44l.94 2.06.94-2.06 2.06-.94-2.06-.94-.94-2.06-.94 2.06-2.06.94zm-11 1L8.5 8.5l.94-2.06 2.06-.94-2.06-.94L8.5 2.5l-.94 2.06-2.06.94zm10 10l.94 2.06.94-2.06 2.06-.94-2.06-.94-.94-2.06-.94 2.06-2.06.94z\"/><path d=\"M17.41 7.96l-1.37-1.37c-.4-.4-.92-.59-1.43-.59-.52 0-1.04.2-1.43.59L10.3 9.45l-7.72 7.72c-.78.78-.78 2.05 0 2.83L4 21.41c.39.39.9.59 1.41.59.51 0 1.02-.2 1.41-.59l7.78-7.78 2.81-2.81c.8-.78.8-2.07 0-2.86zM5.41 20L4 18.59l7.72-7.72 1.47 1.35L5.41 20z\"/>\n",
              "  </svg>\n",
              "      </button>\n",
              "\n",
              "\n",
              "\n",
              "    <div id=\"df-b85df97a-5d1a-47b2-9498-9ee0b82a5be6\">\n",
              "      <button class=\"colab-df-quickchart\" onclick=\"quickchart('df-b85df97a-5d1a-47b2-9498-9ee0b82a5be6')\"\n",
              "              title=\"Suggest charts.\"\n",
              "              style=\"display:none;\">\n",
              "\n",
              "<svg xmlns=\"http://www.w3.org/2000/svg\" height=\"24px\"viewBox=\"0 0 24 24\"\n",
              "     width=\"24px\">\n",
              "    <g>\n",
              "        <path d=\"M19 3H5c-1.1 0-2 .9-2 2v14c0 1.1.9 2 2 2h14c1.1 0 2-.9 2-2V5c0-1.1-.9-2-2-2zM9 17H7v-7h2v7zm4 0h-2V7h2v10zm4 0h-2v-4h2v4z\"/>\n",
              "    </g>\n",
              "</svg>\n",
              "      </button>\n",
              "    </div>\n",
              "\n",
              "<style>\n",
              "  .colab-df-quickchart {\n",
              "    background-color: #E8F0FE;\n",
              "    border: none;\n",
              "    border-radius: 50%;\n",
              "    cursor: pointer;\n",
              "    display: none;\n",
              "    fill: #1967D2;\n",
              "    height: 32px;\n",
              "    padding: 0 0 0 0;\n",
              "    width: 32px;\n",
              "  }\n",
              "\n",
              "  .colab-df-quickchart:hover {\n",
              "    background-color: #E2EBFA;\n",
              "    box-shadow: 0px 1px 2px rgba(60, 64, 67, 0.3), 0px 1px 3px 1px rgba(60, 64, 67, 0.15);\n",
              "    fill: #174EA6;\n",
              "  }\n",
              "\n",
              "  [theme=dark] .colab-df-quickchart {\n",
              "    background-color: #3B4455;\n",
              "    fill: #D2E3FC;\n",
              "  }\n",
              "\n",
              "  [theme=dark] .colab-df-quickchart:hover {\n",
              "    background-color: #434B5C;\n",
              "    box-shadow: 0px 1px 3px 1px rgba(0, 0, 0, 0.15);\n",
              "    filter: drop-shadow(0px 1px 2px rgba(0, 0, 0, 0.3));\n",
              "    fill: #FFFFFF;\n",
              "  }\n",
              "</style>\n",
              "\n",
              "    <script>\n",
              "      async function quickchart(key) {\n",
              "        const containerElement = document.querySelector('#' + key);\n",
              "        const charts = await google.colab.kernel.invokeFunction(\n",
              "            'suggestCharts', [key], {});\n",
              "      }\n",
              "    </script>\n",
              "\n",
              "      <script>\n",
              "\n",
              "function displayQuickchartButton(domScope) {\n",
              "  let quickchartButtonEl =\n",
              "    domScope.querySelector('#df-b85df97a-5d1a-47b2-9498-9ee0b82a5be6 button.colab-df-quickchart');\n",
              "  quickchartButtonEl.style.display =\n",
              "    google.colab.kernel.accessAllowed ? 'block' : 'none';\n",
              "}\n",
              "\n",
              "        displayQuickchartButton(document);\n",
              "      </script>\n",
              "      <style>\n",
              "    .colab-df-container {\n",
              "      display:flex;\n",
              "      flex-wrap:wrap;\n",
              "      gap: 12px;\n",
              "    }\n",
              "\n",
              "    .colab-df-convert {\n",
              "      background-color: #E8F0FE;\n",
              "      border: none;\n",
              "      border-radius: 50%;\n",
              "      cursor: pointer;\n",
              "      display: none;\n",
              "      fill: #1967D2;\n",
              "      height: 32px;\n",
              "      padding: 0 0 0 0;\n",
              "      width: 32px;\n",
              "    }\n",
              "\n",
              "    .colab-df-convert:hover {\n",
              "      background-color: #E2EBFA;\n",
              "      box-shadow: 0px 1px 2px rgba(60, 64, 67, 0.3), 0px 1px 3px 1px rgba(60, 64, 67, 0.15);\n",
              "      fill: #174EA6;\n",
              "    }\n",
              "\n",
              "    [theme=dark] .colab-df-convert {\n",
              "      background-color: #3B4455;\n",
              "      fill: #D2E3FC;\n",
              "    }\n",
              "\n",
              "    [theme=dark] .colab-df-convert:hover {\n",
              "      background-color: #434B5C;\n",
              "      box-shadow: 0px 1px 3px 1px rgba(0, 0, 0, 0.15);\n",
              "      filter: drop-shadow(0px 1px 2px rgba(0, 0, 0, 0.3));\n",
              "      fill: #FFFFFF;\n",
              "    }\n",
              "  </style>\n",
              "\n",
              "      <script>\n",
              "        const buttonEl =\n",
              "          document.querySelector('#df-c6d47cff-45e9-478b-812e-a6a3d104f4ea button.colab-df-convert');\n",
              "        buttonEl.style.display =\n",
              "          google.colab.kernel.accessAllowed ? 'block' : 'none';\n",
              "\n",
              "        async function convertToInteractive(key) {\n",
              "          const element = document.querySelector('#df-c6d47cff-45e9-478b-812e-a6a3d104f4ea');\n",
              "          const dataTable =\n",
              "            await google.colab.kernel.invokeFunction('convertToInteractive',\n",
              "                                                     [key], {});\n",
              "          if (!dataTable) return;\n",
              "\n",
              "          const docLinkHtml = 'Like what you see? Visit the ' +\n",
              "            '<a target=\"_blank\" href=https://colab.research.google.com/notebooks/data_table.ipynb>data table notebook</a>'\n",
              "            + ' to learn more about interactive tables.';\n",
              "          element.innerHTML = '';\n",
              "          dataTable['output_type'] = 'display_data';\n",
              "          await google.colab.output.renderOutput(dataTable, element);\n",
              "          const docLink = document.createElement('div');\n",
              "          docLink.innerHTML = docLinkHtml;\n",
              "          element.appendChild(docLink);\n",
              "        }\n",
              "      </script>\n",
              "    </div>\n",
              "  </div>\n"
            ]
          },
          "metadata": {},
          "execution_count": 77
        }
      ]
    },
    {
      "cell_type": "code",
      "source": [
        "# 3.1\n",
        "mobile_price.shape\n",
        "mobile_price.dtypes"
      ],
      "metadata": {
        "id": "K2xOFQwBrcQW",
        "colab": {
          "base_uri": "https://localhost:8080/"
        },
        "outputId": "507141f5-ab29-4b37-b123-59dec87a310a"
      },
      "execution_count": null,
      "outputs": [
        {
          "output_type": "execute_result",
          "data": {
            "text/plain": [
              "(2000, 21)"
            ]
          },
          "metadata": {},
          "execution_count": 78
        },
        {
          "output_type": "execute_result",
          "data": {
            "text/plain": [
              "battery_power      int64\n",
              "blue               int64\n",
              "clock_speed      float64\n",
              "dual_sim           int64\n",
              "fc                 int64\n",
              "four_g             int64\n",
              "int_memory         int64\n",
              "m_dep            float64\n",
              "mobile_wt          int64\n",
              "n_cores            int64\n",
              "pc                 int64\n",
              "px_height          int64\n",
              "px_width           int64\n",
              "ram                int64\n",
              "sc_h               int64\n",
              "sc_w               int64\n",
              "talk_time          int64\n",
              "three_g            int64\n",
              "touch_screen       int64\n",
              "wifi               int64\n",
              "price_range        int64\n",
              "dtype: object"
            ]
          },
          "metadata": {},
          "execution_count": 78
        }
      ]
    },
    {
      "cell_type": "code",
      "source": [
        "# 3.2 Get target and predictors:\n",
        "y = mobile_price.pop(\"ram\")\n",
        "X = mobile_price"
      ],
      "metadata": {
        "id": "m4__4kHVrkqw"
      },
      "execution_count": null,
      "outputs": []
    },
    {
      "cell_type": "code",
      "source": [
        "# 4.0 Build model:\n",
        "\n",
        "model = tf.keras.Sequential()"
      ],
      "metadata": {
        "id": "8lOdDfeSrraY"
      },
      "execution_count": null,
      "outputs": []
    },
    {
      "cell_type": "code",
      "source": [
        "# 4.1\n",
        "model.add(layers.Input( shape = (20,) ) )"
      ],
      "metadata": {
        "id": "7MzLVSbqruaa"
      },
      "execution_count": null,
      "outputs": []
    },
    {
      "cell_type": "code",
      "source": [
        "# 4.2\n",
        "model.add(layers.Dense(1, activation=\"relu\"))"
      ],
      "metadata": {
        "id": "B9c5WKZZr0Qf"
      },
      "execution_count": null,
      "outputs": []
    },
    {
      "cell_type": "code",
      "source": [
        "# 4.2.1\n",
        "weights, bias = model.weights"
      ],
      "metadata": {
        "id": "FixZw4busDk3",
        "colab": {
          "base_uri": "https://localhost:8080/",
          "height": 183
        },
        "outputId": "bd70dc81-ce95-4aed-a1a4-d73fa6752591"
      },
      "execution_count": null,
      "outputs": [
        {
          "output_type": "error",
          "ename": "ValueError",
          "evalue": "ignored",
          "traceback": [
            "\u001b[0;31m---------------------------------------------------------------------------\u001b[0m",
            "\u001b[0;31mValueError\u001b[0m                                Traceback (most recent call last)",
            "\u001b[0;32m<ipython-input-97-57202ca210ca>\u001b[0m in \u001b[0;36m<cell line: 2>\u001b[0;34m()\u001b[0m\n\u001b[1;32m      1\u001b[0m \u001b[0;31m# 4.2.1\u001b[0m\u001b[0;34m\u001b[0m\u001b[0;34m\u001b[0m\u001b[0m\n\u001b[0;32m----> 2\u001b[0;31m \u001b[0mweights\u001b[0m\u001b[0;34m,\u001b[0m \u001b[0mbias\u001b[0m \u001b[0;34m=\u001b[0m \u001b[0mmodel\u001b[0m\u001b[0;34m.\u001b[0m\u001b[0mweights\u001b[0m\u001b[0;34m\u001b[0m\u001b[0;34m\u001b[0m\u001b[0m\n\u001b[0m",
            "\u001b[0;31mValueError\u001b[0m: too many values to unpack (expected 2)"
          ]
        }
      ]
    },
    {
      "cell_type": "code",
      "source": [
        "# 4.2.2\n",
        "weights"
      ],
      "metadata": {
        "id": "V_7JX-qGsFnh",
        "colab": {
          "base_uri": "https://localhost:8080/"
        },
        "outputId": "98f31ee7-af32-43e4-9b6b-5c43fd5866ad"
      },
      "execution_count": null,
      "outputs": [
        {
          "output_type": "execute_result",
          "data": {
            "text/plain": [
              "<tf.Variable 'dense_3/kernel:0' shape=(20, 1) dtype=float32, numpy=\n",
              "array([[-0.0322597 ],\n",
              "       [-0.33408266],\n",
              "       [-0.48457476],\n",
              "       [ 0.5278099 ],\n",
              "       [ 0.11839604],\n",
              "       [-0.05316049],\n",
              "       [-0.40323064],\n",
              "       [-0.02146679],\n",
              "       [ 0.04439425],\n",
              "       [-0.00869203],\n",
              "       [-0.52177083],\n",
              "       [ 0.31280273],\n",
              "       [ 0.31715453],\n",
              "       [-0.02264494],\n",
              "       [-0.17086682],\n",
              "       [ 0.19462079],\n",
              "       [ 0.12322325],\n",
              "       [ 0.06525916],\n",
              "       [ 0.18483591],\n",
              "       [-0.15296519]], dtype=float32)>"
            ]
          },
          "metadata": {},
          "execution_count": 85
        }
      ]
    },
    {
      "cell_type": "code",
      "source": [
        "# 4.2.3\n",
        "bias"
      ],
      "metadata": {
        "id": "jybd-pIAsGEz",
        "colab": {
          "base_uri": "https://localhost:8080/"
        },
        "outputId": "8427fe42-9547-4983-de46-968193b965b5"
      },
      "execution_count": null,
      "outputs": [
        {
          "output_type": "execute_result",
          "data": {
            "text/plain": [
              "<tf.Variable 'dense_3/bias:0' shape=(1,) dtype=float32, numpy=array([0.], dtype=float32)>"
            ]
          },
          "metadata": {},
          "execution_count": 86
        }
      ]
    },
    {
      "cell_type": "code",
      "source": [
        "#4.3 Compile\n",
        "model.compile( loss = \"mae\")"
      ],
      "metadata": {
        "id": "vy3YIpqjsJpm"
      },
      "execution_count": null,
      "outputs": []
    },
    {
      "cell_type": "code",
      "source": [
        "# 4.4 Train\n",
        "model.fit(X,y, epochs = 100 )"
      ],
      "metadata": {
        "id": "wZk0tsvTsL7o",
        "colab": {
          "base_uri": "https://localhost:8080/"
        },
        "outputId": "ae92b997-dfcd-4f14-e913-d120222b01fd"
      },
      "execution_count": null,
      "outputs": [
        {
          "output_type": "stream",
          "name": "stdout",
          "text": [
            "Epoch 1/100\n",
            "63/63 [==============================] - 0s 2ms/step - loss: 1519.7736\n",
            "Epoch 2/100\n",
            "63/63 [==============================] - 0s 2ms/step - loss: 1382.3319\n",
            "Epoch 3/100\n",
            "63/63 [==============================] - 0s 2ms/step - loss: 1268.7367\n",
            "Epoch 4/100\n",
            "63/63 [==============================] - 0s 2ms/step - loss: 1179.5614\n",
            "Epoch 5/100\n",
            "63/63 [==============================] - 0s 2ms/step - loss: 1117.8365\n",
            "Epoch 6/100\n",
            "63/63 [==============================] - 0s 2ms/step - loss: 1079.3105\n",
            "Epoch 7/100\n",
            "63/63 [==============================] - 0s 2ms/step - loss: 1056.5505\n",
            "Epoch 8/100\n",
            "63/63 [==============================] - 0s 2ms/step - loss: 1044.2377\n",
            "Epoch 9/100\n",
            "63/63 [==============================] - 0s 2ms/step - loss: 1037.3141\n",
            "Epoch 10/100\n",
            "63/63 [==============================] - 0s 2ms/step - loss: 1033.0632\n",
            "Epoch 11/100\n",
            "63/63 [==============================] - 0s 2ms/step - loss: 1029.6329\n",
            "Epoch 12/100\n",
            "63/63 [==============================] - 0s 2ms/step - loss: 1026.9181\n",
            "Epoch 13/100\n",
            "63/63 [==============================] - 0s 2ms/step - loss: 1024.6865\n",
            "Epoch 14/100\n",
            "63/63 [==============================] - 0s 2ms/step - loss: 1022.5624\n",
            "Epoch 15/100\n",
            "63/63 [==============================] - 0s 2ms/step - loss: 1020.6838\n",
            "Epoch 16/100\n",
            "63/63 [==============================] - 0s 2ms/step - loss: 1018.7480\n",
            "Epoch 17/100\n",
            "63/63 [==============================] - 0s 2ms/step - loss: 1016.8674\n",
            "Epoch 18/100\n",
            "63/63 [==============================] - 0s 2ms/step - loss: 1015.1852\n",
            "Epoch 19/100\n",
            "63/63 [==============================] - 0s 2ms/step - loss: 1013.7815\n",
            "Epoch 20/100\n",
            "63/63 [==============================] - 0s 2ms/step - loss: 1012.4734\n",
            "Epoch 21/100\n",
            "63/63 [==============================] - 0s 2ms/step - loss: 1011.0919\n",
            "Epoch 22/100\n",
            "63/63 [==============================] - 0s 2ms/step - loss: 1009.5966\n",
            "Epoch 23/100\n",
            "63/63 [==============================] - 0s 2ms/step - loss: 1008.5026\n",
            "Epoch 24/100\n",
            "63/63 [==============================] - 0s 2ms/step - loss: 1007.1809\n",
            "Epoch 25/100\n",
            "63/63 [==============================] - 0s 2ms/step - loss: 1006.1180\n",
            "Epoch 26/100\n",
            "63/63 [==============================] - 0s 2ms/step - loss: 1005.0590\n",
            "Epoch 27/100\n",
            "63/63 [==============================] - 0s 4ms/step - loss: 1003.9935\n",
            "Epoch 28/100\n",
            "63/63 [==============================] - 0s 5ms/step - loss: 1003.0167\n",
            "Epoch 29/100\n",
            "63/63 [==============================] - 0s 4ms/step - loss: 1002.0798\n",
            "Epoch 30/100\n",
            "63/63 [==============================] - 0s 3ms/step - loss: 1001.3093\n",
            "Epoch 31/100\n",
            "63/63 [==============================] - 0s 4ms/step - loss: 1000.4585\n",
            "Epoch 32/100\n",
            "63/63 [==============================] - 0s 2ms/step - loss: 999.6513\n",
            "Epoch 33/100\n",
            "63/63 [==============================] - 0s 2ms/step - loss: 998.7151\n",
            "Epoch 34/100\n",
            "63/63 [==============================] - 0s 1ms/step - loss: 998.0043\n",
            "Epoch 35/100\n",
            "63/63 [==============================] - 0s 1ms/step - loss: 997.3307\n",
            "Epoch 36/100\n",
            "63/63 [==============================] - 0s 1ms/step - loss: 996.5945\n",
            "Epoch 37/100\n",
            "63/63 [==============================] - 0s 1ms/step - loss: 995.9943\n",
            "Epoch 38/100\n",
            "63/63 [==============================] - 0s 1ms/step - loss: 995.3825\n",
            "Epoch 39/100\n",
            "63/63 [==============================] - 0s 1ms/step - loss: 994.8425\n",
            "Epoch 40/100\n",
            "63/63 [==============================] - 0s 1ms/step - loss: 994.3665\n",
            "Epoch 41/100\n",
            "63/63 [==============================] - 0s 1ms/step - loss: 993.7375\n",
            "Epoch 42/100\n",
            "63/63 [==============================] - 0s 1ms/step - loss: 993.1732\n",
            "Epoch 43/100\n",
            "63/63 [==============================] - 0s 1ms/step - loss: 992.7064\n",
            "Epoch 44/100\n",
            "63/63 [==============================] - 0s 1ms/step - loss: 992.2914\n",
            "Epoch 45/100\n",
            "63/63 [==============================] - 0s 2ms/step - loss: 991.8453\n",
            "Epoch 46/100\n",
            "63/63 [==============================] - 0s 1ms/step - loss: 991.2667\n",
            "Epoch 47/100\n",
            "63/63 [==============================] - 0s 1ms/step - loss: 990.8787\n",
            "Epoch 48/100\n",
            "63/63 [==============================] - 0s 1ms/step - loss: 990.4292\n",
            "Epoch 49/100\n",
            "63/63 [==============================] - 0s 1ms/step - loss: 990.1115\n",
            "Epoch 50/100\n",
            "63/63 [==============================] - 0s 1ms/step - loss: 989.6268\n",
            "Epoch 51/100\n",
            "63/63 [==============================] - 0s 1ms/step - loss: 989.3722\n",
            "Epoch 52/100\n",
            "63/63 [==============================] - 0s 1ms/step - loss: 988.8955\n",
            "Epoch 53/100\n",
            "63/63 [==============================] - 0s 2ms/step - loss: 988.6008\n",
            "Epoch 54/100\n",
            "63/63 [==============================] - 0s 1ms/step - loss: 988.2184\n",
            "Epoch 55/100\n",
            "63/63 [==============================] - 0s 1ms/step - loss: 987.8387\n",
            "Epoch 56/100\n",
            "63/63 [==============================] - 0s 1ms/step - loss: 987.6129\n",
            "Epoch 57/100\n",
            "63/63 [==============================] - 0s 1ms/step - loss: 987.2031\n",
            "Epoch 58/100\n",
            "63/63 [==============================] - 0s 1ms/step - loss: 986.8757\n",
            "Epoch 59/100\n",
            "63/63 [==============================] - 0s 1ms/step - loss: 986.5466\n",
            "Epoch 60/100\n",
            "63/63 [==============================] - 0s 1ms/step - loss: 986.2474\n",
            "Epoch 61/100\n",
            "63/63 [==============================] - 0s 1ms/step - loss: 985.8054\n",
            "Epoch 62/100\n",
            "63/63 [==============================] - 0s 1ms/step - loss: 985.6506\n",
            "Epoch 63/100\n",
            "63/63 [==============================] - 0s 1ms/step - loss: 985.3118\n",
            "Epoch 64/100\n",
            "63/63 [==============================] - 0s 1ms/step - loss: 985.0079\n",
            "Epoch 65/100\n",
            "63/63 [==============================] - 0s 1ms/step - loss: 984.7466\n",
            "Epoch 66/100\n",
            "63/63 [==============================] - 0s 1ms/step - loss: 984.4700\n",
            "Epoch 67/100\n",
            "63/63 [==============================] - 0s 2ms/step - loss: 984.1208\n",
            "Epoch 68/100\n",
            "63/63 [==============================] - 0s 1ms/step - loss: 983.9128\n",
            "Epoch 69/100\n",
            "63/63 [==============================] - 0s 1ms/step - loss: 983.5769\n",
            "Epoch 70/100\n",
            "63/63 [==============================] - 0s 1ms/step - loss: 983.3032\n",
            "Epoch 71/100\n",
            "63/63 [==============================] - 0s 1ms/step - loss: 983.0197\n",
            "Epoch 72/100\n",
            "63/63 [==============================] - 0s 1ms/step - loss: 982.7855\n",
            "Epoch 73/100\n",
            "63/63 [==============================] - 0s 2ms/step - loss: 982.4725\n",
            "Epoch 74/100\n",
            "63/63 [==============================] - 0s 1ms/step - loss: 982.2991\n",
            "Epoch 75/100\n",
            "63/63 [==============================] - 0s 1ms/step - loss: 981.9789\n",
            "Epoch 76/100\n",
            "63/63 [==============================] - 0s 1ms/step - loss: 981.8019\n",
            "Epoch 77/100\n",
            "63/63 [==============================] - 0s 1ms/step - loss: 981.4612\n",
            "Epoch 78/100\n",
            "63/63 [==============================] - 0s 2ms/step - loss: 981.2162\n",
            "Epoch 79/100\n",
            "63/63 [==============================] - 0s 1ms/step - loss: 980.9991\n",
            "Epoch 80/100\n",
            "63/63 [==============================] - 0s 1ms/step - loss: 980.7523\n",
            "Epoch 81/100\n",
            "63/63 [==============================] - 0s 1ms/step - loss: 980.5120\n",
            "Epoch 82/100\n",
            "63/63 [==============================] - 0s 1ms/step - loss: 980.3204\n",
            "Epoch 83/100\n",
            "63/63 [==============================] - 0s 1ms/step - loss: 980.0342\n",
            "Epoch 84/100\n",
            "63/63 [==============================] - 0s 1ms/step - loss: 979.8112\n",
            "Epoch 85/100\n",
            "63/63 [==============================] - 0s 1ms/step - loss: 979.6050\n",
            "Epoch 86/100\n",
            "63/63 [==============================] - 0s 1ms/step - loss: 979.3644\n",
            "Epoch 87/100\n",
            "63/63 [==============================] - 0s 1ms/step - loss: 979.0905\n",
            "Epoch 88/100\n",
            "63/63 [==============================] - 0s 1ms/step - loss: 978.8893\n",
            "Epoch 89/100\n",
            "63/63 [==============================] - 0s 1ms/step - loss: 978.6724\n",
            "Epoch 90/100\n",
            "63/63 [==============================] - 0s 1ms/step - loss: 978.3106\n",
            "Epoch 91/100\n",
            "63/63 [==============================] - 0s 1ms/step - loss: 978.1053\n",
            "Epoch 92/100\n",
            "63/63 [==============================] - 0s 1ms/step - loss: 978.0069\n",
            "Epoch 93/100\n",
            "63/63 [==============================] - 0s 1ms/step - loss: 977.7854\n",
            "Epoch 94/100\n",
            "63/63 [==============================] - 0s 1ms/step - loss: 977.5635\n",
            "Epoch 95/100\n",
            "63/63 [==============================] - 0s 1ms/step - loss: 977.3191\n",
            "Epoch 96/100\n",
            "63/63 [==============================] - 0s 1ms/step - loss: 977.1243\n",
            "Epoch 97/100\n",
            "63/63 [==============================] - 0s 1ms/step - loss: 976.9340\n",
            "Epoch 98/100\n",
            "63/63 [==============================] - 0s 1ms/step - loss: 976.6729\n",
            "Epoch 99/100\n",
            "63/63 [==============================] - 0s 1ms/step - loss: 976.4465\n",
            "Epoch 100/100\n",
            "63/63 [==============================] - 0s 2ms/step - loss: 976.2820\n"
          ]
        },
        {
          "output_type": "execute_result",
          "data": {
            "text/plain": [
              "<keras.callbacks.History at 0x7f73e8e091b0>"
            ]
          },
          "metadata": {},
          "execution_count": 88
        }
      ]
    },
    {
      "cell_type": "code",
      "source": [
        "# 5.0 Predict\n",
        "pred = model.predict(X)"
      ],
      "metadata": {
        "colab": {
          "base_uri": "https://localhost:8080/"
        },
        "id": "6ccOVH9GfO_w",
        "outputId": "60048800-e07c-426e-d0b8-36b2df3a4717"
      },
      "execution_count": null,
      "outputs": [
        {
          "output_type": "stream",
          "name": "stdout",
          "text": [
            "63/63 [==============================] - 0s 1ms/step\n"
          ]
        }
      ]
    },
    {
      "cell_type": "code",
      "source": [
        "# 5.1 Round up decimal places\n",
        "pred = np.round(pred)"
      ],
      "metadata": {
        "id": "jpel3_ZhfQcZ"
      },
      "execution_count": null,
      "outputs": []
    },
    {
      "cell_type": "code",
      "source": [
        "# 5.1.1\n",
        "y.shape"
      ],
      "metadata": {
        "colab": {
          "base_uri": "https://localhost:8080/"
        },
        "id": "-h_49IGHfUr6",
        "outputId": "911083e1-fe66-476b-9236-b76b55804f78"
      },
      "execution_count": null,
      "outputs": [
        {
          "output_type": "execute_result",
          "data": {
            "text/plain": [
              "(2000,)"
            ]
          },
          "metadata": {},
          "execution_count": 91
        }
      ]
    },
    {
      "cell_type": "code",
      "source": [
        "# 5.2 Compare:\n",
        "np.sum(pred == y.values.reshape(2000,1))/2000"
      ],
      "metadata": {
        "colab": {
          "base_uri": "https://localhost:8080/"
        },
        "id": "NgKpLfY6fY9W",
        "outputId": "06df7325-c9a8-461d-b568-455c097700b0"
      },
      "execution_count": null,
      "outputs": [
        {
          "output_type": "execute_result",
          "data": {
            "text/plain": [
              "0.0"
            ]
          },
          "metadata": {},
          "execution_count": 92
        }
      ]
    }
  ]
}