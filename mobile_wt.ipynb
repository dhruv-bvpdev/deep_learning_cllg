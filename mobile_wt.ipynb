{
  "nbformat": 4,
  "nbformat_minor": 0,
  "metadata": {
    "colab": {
      "provenance": []
    },
    "kernelspec": {
      "name": "python3",
      "display_name": "Python 3"
    },
    "language_info": {
      "name": "python"
    }
  },
  "cells": [
    {
      "cell_type": "code",
      "execution_count": 1,
      "metadata": {
        "id": "fdHaEynZgOKb"
      },
      "outputs": [],
      "source": [
        "# 1.0 Call libraries\n",
        "import pandas as pd\n",
        "import numpy as np\n",
        "from  pathlib import Path\n",
        "\n",
        "# 1.0.1\n",
        "import tensorflow as tf\n",
        "from tensorflow import keras\n",
        "from tensorflow.keras import layers"
      ]
    },
    {
      "cell_type": "code",
      "source": [
        "# 1.1 Display multiple commands output from a cell\n",
        "from IPython.core.interactiveshell import InteractiveShell\n",
        "InteractiveShell.ast_node_interactivity = \"all\""
      ],
      "metadata": {
        "id": "ZO0m9bHGgjOg"
      },
      "execution_count": 2,
      "outputs": []
    },
    {
      "cell_type": "code",
      "source": [
        "# 2.0\n",
        "from google.colab import drive\n",
        "drive.mount('/gdrive')"
      ],
      "metadata": {
        "colab": {
          "base_uri": "https://localhost:8080/"
        },
        "id": "aNVxiwAaglPQ",
        "outputId": "674708ac-3a4a-4e61-fa57-20803b5b7852"
      },
      "execution_count": 3,
      "outputs": [
        {
          "output_type": "stream",
          "name": "stdout",
          "text": [
            "Mounted at /gdrive\n"
          ]
        }
      ]
    },
    {
      "cell_type": "code",
      "source": [
        "# 2.1 Where is our data file:\n",
        "pathToFolder = \"/gdrive/MyDrive/deeplearning\""
      ],
      "metadata": {
        "id": "09fyEY6EgobK"
      },
      "execution_count": 4,
      "outputs": []
    },
    {
      "cell_type": "code",
      "source": [
        "# 2.2 Full file path:\n",
        "path = Path(pathToFolder) / \"mobile_price.csv\""
      ],
      "metadata": {
        "id": "rLwdDajvgq6H"
      },
      "execution_count": 5,
      "outputs": []
    },
    {
      "cell_type": "code",
      "source": [
        "# 3.0 Read data\n",
        "mobile_price = pd.read_csv(path)\n",
        "mobile_price.head()"
      ],
      "metadata": {
        "colab": {
          "base_uri": "https://localhost:8080/",
          "height": 299
        },
        "id": "il6z3cz7gsgO",
        "outputId": "79c63233-d528-44b8-d145-9c9d6fe816e5"
      },
      "execution_count": 14,
      "outputs": [
        {
          "output_type": "execute_result",
          "data": {
            "text/plain": [
              "   battery_power  blue  clock_speed  dual_sim  fc  four_g  int_memory  m_dep  \\\n",
              "0            842     0          2.2         0   1       0           7    0.6   \n",
              "1           1021     1          0.5         1   0       1          53    0.7   \n",
              "2            563     1          0.5         1   2       1          41    0.9   \n",
              "3            615     1          2.5         0   0       0          10    0.8   \n",
              "4           1821     1          1.2         0  13       1          44    0.6   \n",
              "\n",
              "   mobile_wt  n_cores  ...  px_height  px_width   ram  sc_h  sc_w  talk_time  \\\n",
              "0        188        2  ...         20       756  2549     9     7         19   \n",
              "1        136        3  ...        905      1988  2631    17     3          7   \n",
              "2        145        5  ...       1263      1716  2603    11     2          9   \n",
              "3        131        6  ...       1216      1786  2769    16     8         11   \n",
              "4        141        2  ...       1208      1212  1411     8     2         15   \n",
              "\n",
              "   three_g  touch_screen  wifi  price_range  \n",
              "0        0             0     1            1  \n",
              "1        1             1     0            2  \n",
              "2        1             1     0            2  \n",
              "3        1             0     0            2  \n",
              "4        1             1     0            1  \n",
              "\n",
              "[5 rows x 21 columns]"
            ],
            "text/html": [
              "\n",
              "\n",
              "  <div id=\"df-05ca5792-dd94-48a9-8cd9-17cfbc818bf1\">\n",
              "    <div class=\"colab-df-container\">\n",
              "      <div>\n",
              "<style scoped>\n",
              "    .dataframe tbody tr th:only-of-type {\n",
              "        vertical-align: middle;\n",
              "    }\n",
              "\n",
              "    .dataframe tbody tr th {\n",
              "        vertical-align: top;\n",
              "    }\n",
              "\n",
              "    .dataframe thead th {\n",
              "        text-align: right;\n",
              "    }\n",
              "</style>\n",
              "<table border=\"1\" class=\"dataframe\">\n",
              "  <thead>\n",
              "    <tr style=\"text-align: right;\">\n",
              "      <th></th>\n",
              "      <th>battery_power</th>\n",
              "      <th>blue</th>\n",
              "      <th>clock_speed</th>\n",
              "      <th>dual_sim</th>\n",
              "      <th>fc</th>\n",
              "      <th>four_g</th>\n",
              "      <th>int_memory</th>\n",
              "      <th>m_dep</th>\n",
              "      <th>mobile_wt</th>\n",
              "      <th>n_cores</th>\n",
              "      <th>...</th>\n",
              "      <th>px_height</th>\n",
              "      <th>px_width</th>\n",
              "      <th>ram</th>\n",
              "      <th>sc_h</th>\n",
              "      <th>sc_w</th>\n",
              "      <th>talk_time</th>\n",
              "      <th>three_g</th>\n",
              "      <th>touch_screen</th>\n",
              "      <th>wifi</th>\n",
              "      <th>price_range</th>\n",
              "    </tr>\n",
              "  </thead>\n",
              "  <tbody>\n",
              "    <tr>\n",
              "      <th>0</th>\n",
              "      <td>842</td>\n",
              "      <td>0</td>\n",
              "      <td>2.2</td>\n",
              "      <td>0</td>\n",
              "      <td>1</td>\n",
              "      <td>0</td>\n",
              "      <td>7</td>\n",
              "      <td>0.6</td>\n",
              "      <td>188</td>\n",
              "      <td>2</td>\n",
              "      <td>...</td>\n",
              "      <td>20</td>\n",
              "      <td>756</td>\n",
              "      <td>2549</td>\n",
              "      <td>9</td>\n",
              "      <td>7</td>\n",
              "      <td>19</td>\n",
              "      <td>0</td>\n",
              "      <td>0</td>\n",
              "      <td>1</td>\n",
              "      <td>1</td>\n",
              "    </tr>\n",
              "    <tr>\n",
              "      <th>1</th>\n",
              "      <td>1021</td>\n",
              "      <td>1</td>\n",
              "      <td>0.5</td>\n",
              "      <td>1</td>\n",
              "      <td>0</td>\n",
              "      <td>1</td>\n",
              "      <td>53</td>\n",
              "      <td>0.7</td>\n",
              "      <td>136</td>\n",
              "      <td>3</td>\n",
              "      <td>...</td>\n",
              "      <td>905</td>\n",
              "      <td>1988</td>\n",
              "      <td>2631</td>\n",
              "      <td>17</td>\n",
              "      <td>3</td>\n",
              "      <td>7</td>\n",
              "      <td>1</td>\n",
              "      <td>1</td>\n",
              "      <td>0</td>\n",
              "      <td>2</td>\n",
              "    </tr>\n",
              "    <tr>\n",
              "      <th>2</th>\n",
              "      <td>563</td>\n",
              "      <td>1</td>\n",
              "      <td>0.5</td>\n",
              "      <td>1</td>\n",
              "      <td>2</td>\n",
              "      <td>1</td>\n",
              "      <td>41</td>\n",
              "      <td>0.9</td>\n",
              "      <td>145</td>\n",
              "      <td>5</td>\n",
              "      <td>...</td>\n",
              "      <td>1263</td>\n",
              "      <td>1716</td>\n",
              "      <td>2603</td>\n",
              "      <td>11</td>\n",
              "      <td>2</td>\n",
              "      <td>9</td>\n",
              "      <td>1</td>\n",
              "      <td>1</td>\n",
              "      <td>0</td>\n",
              "      <td>2</td>\n",
              "    </tr>\n",
              "    <tr>\n",
              "      <th>3</th>\n",
              "      <td>615</td>\n",
              "      <td>1</td>\n",
              "      <td>2.5</td>\n",
              "      <td>0</td>\n",
              "      <td>0</td>\n",
              "      <td>0</td>\n",
              "      <td>10</td>\n",
              "      <td>0.8</td>\n",
              "      <td>131</td>\n",
              "      <td>6</td>\n",
              "      <td>...</td>\n",
              "      <td>1216</td>\n",
              "      <td>1786</td>\n",
              "      <td>2769</td>\n",
              "      <td>16</td>\n",
              "      <td>8</td>\n",
              "      <td>11</td>\n",
              "      <td>1</td>\n",
              "      <td>0</td>\n",
              "      <td>0</td>\n",
              "      <td>2</td>\n",
              "    </tr>\n",
              "    <tr>\n",
              "      <th>4</th>\n",
              "      <td>1821</td>\n",
              "      <td>1</td>\n",
              "      <td>1.2</td>\n",
              "      <td>0</td>\n",
              "      <td>13</td>\n",
              "      <td>1</td>\n",
              "      <td>44</td>\n",
              "      <td>0.6</td>\n",
              "      <td>141</td>\n",
              "      <td>2</td>\n",
              "      <td>...</td>\n",
              "      <td>1208</td>\n",
              "      <td>1212</td>\n",
              "      <td>1411</td>\n",
              "      <td>8</td>\n",
              "      <td>2</td>\n",
              "      <td>15</td>\n",
              "      <td>1</td>\n",
              "      <td>1</td>\n",
              "      <td>0</td>\n",
              "      <td>1</td>\n",
              "    </tr>\n",
              "  </tbody>\n",
              "</table>\n",
              "<p>5 rows × 21 columns</p>\n",
              "</div>\n",
              "      <button class=\"colab-df-convert\" onclick=\"convertToInteractive('df-05ca5792-dd94-48a9-8cd9-17cfbc818bf1')\"\n",
              "              title=\"Convert this dataframe to an interactive table.\"\n",
              "              style=\"display:none;\">\n",
              "\n",
              "  <svg xmlns=\"http://www.w3.org/2000/svg\" height=\"24px\"viewBox=\"0 0 24 24\"\n",
              "       width=\"24px\">\n",
              "    <path d=\"M0 0h24v24H0V0z\" fill=\"none\"/>\n",
              "    <path d=\"M18.56 5.44l.94 2.06.94-2.06 2.06-.94-2.06-.94-.94-2.06-.94 2.06-2.06.94zm-11 1L8.5 8.5l.94-2.06 2.06-.94-2.06-.94L8.5 2.5l-.94 2.06-2.06.94zm10 10l.94 2.06.94-2.06 2.06-.94-2.06-.94-.94-2.06-.94 2.06-2.06.94z\"/><path d=\"M17.41 7.96l-1.37-1.37c-.4-.4-.92-.59-1.43-.59-.52 0-1.04.2-1.43.59L10.3 9.45l-7.72 7.72c-.78.78-.78 2.05 0 2.83L4 21.41c.39.39.9.59 1.41.59.51 0 1.02-.2 1.41-.59l7.78-7.78 2.81-2.81c.8-.78.8-2.07 0-2.86zM5.41 20L4 18.59l7.72-7.72 1.47 1.35L5.41 20z\"/>\n",
              "  </svg>\n",
              "      </button>\n",
              "\n",
              "\n",
              "\n",
              "    <div id=\"df-116e7ebd-6a2c-4c83-97f2-c7da64dfa071\">\n",
              "      <button class=\"colab-df-quickchart\" onclick=\"quickchart('df-116e7ebd-6a2c-4c83-97f2-c7da64dfa071')\"\n",
              "              title=\"Suggest charts.\"\n",
              "              style=\"display:none;\">\n",
              "\n",
              "<svg xmlns=\"http://www.w3.org/2000/svg\" height=\"24px\"viewBox=\"0 0 24 24\"\n",
              "     width=\"24px\">\n",
              "    <g>\n",
              "        <path d=\"M19 3H5c-1.1 0-2 .9-2 2v14c0 1.1.9 2 2 2h14c1.1 0 2-.9 2-2V5c0-1.1-.9-2-2-2zM9 17H7v-7h2v7zm4 0h-2V7h2v10zm4 0h-2v-4h2v4z\"/>\n",
              "    </g>\n",
              "</svg>\n",
              "      </button>\n",
              "    </div>\n",
              "\n",
              "<style>\n",
              "  .colab-df-quickchart {\n",
              "    background-color: #E8F0FE;\n",
              "    border: none;\n",
              "    border-radius: 50%;\n",
              "    cursor: pointer;\n",
              "    display: none;\n",
              "    fill: #1967D2;\n",
              "    height: 32px;\n",
              "    padding: 0 0 0 0;\n",
              "    width: 32px;\n",
              "  }\n",
              "\n",
              "  .colab-df-quickchart:hover {\n",
              "    background-color: #E2EBFA;\n",
              "    box-shadow: 0px 1px 2px rgba(60, 64, 67, 0.3), 0px 1px 3px 1px rgba(60, 64, 67, 0.15);\n",
              "    fill: #174EA6;\n",
              "  }\n",
              "\n",
              "  [theme=dark] .colab-df-quickchart {\n",
              "    background-color: #3B4455;\n",
              "    fill: #D2E3FC;\n",
              "  }\n",
              "\n",
              "  [theme=dark] .colab-df-quickchart:hover {\n",
              "    background-color: #434B5C;\n",
              "    box-shadow: 0px 1px 3px 1px rgba(0, 0, 0, 0.15);\n",
              "    filter: drop-shadow(0px 1px 2px rgba(0, 0, 0, 0.3));\n",
              "    fill: #FFFFFF;\n",
              "  }\n",
              "</style>\n",
              "\n",
              "    <script>\n",
              "      async function quickchart(key) {\n",
              "        const containerElement = document.querySelector('#' + key);\n",
              "        const charts = await google.colab.kernel.invokeFunction(\n",
              "            'suggestCharts', [key], {});\n",
              "      }\n",
              "    </script>\n",
              "\n",
              "      <script>\n",
              "\n",
              "function displayQuickchartButton(domScope) {\n",
              "  let quickchartButtonEl =\n",
              "    domScope.querySelector('#df-116e7ebd-6a2c-4c83-97f2-c7da64dfa071 button.colab-df-quickchart');\n",
              "  quickchartButtonEl.style.display =\n",
              "    google.colab.kernel.accessAllowed ? 'block' : 'none';\n",
              "}\n",
              "\n",
              "        displayQuickchartButton(document);\n",
              "      </script>\n",
              "      <style>\n",
              "    .colab-df-container {\n",
              "      display:flex;\n",
              "      flex-wrap:wrap;\n",
              "      gap: 12px;\n",
              "    }\n",
              "\n",
              "    .colab-df-convert {\n",
              "      background-color: #E8F0FE;\n",
              "      border: none;\n",
              "      border-radius: 50%;\n",
              "      cursor: pointer;\n",
              "      display: none;\n",
              "      fill: #1967D2;\n",
              "      height: 32px;\n",
              "      padding: 0 0 0 0;\n",
              "      width: 32px;\n",
              "    }\n",
              "\n",
              "    .colab-df-convert:hover {\n",
              "      background-color: #E2EBFA;\n",
              "      box-shadow: 0px 1px 2px rgba(60, 64, 67, 0.3), 0px 1px 3px 1px rgba(60, 64, 67, 0.15);\n",
              "      fill: #174EA6;\n",
              "    }\n",
              "\n",
              "    [theme=dark] .colab-df-convert {\n",
              "      background-color: #3B4455;\n",
              "      fill: #D2E3FC;\n",
              "    }\n",
              "\n",
              "    [theme=dark] .colab-df-convert:hover {\n",
              "      background-color: #434B5C;\n",
              "      box-shadow: 0px 1px 3px 1px rgba(0, 0, 0, 0.15);\n",
              "      filter: drop-shadow(0px 1px 2px rgba(0, 0, 0, 0.3));\n",
              "      fill: #FFFFFF;\n",
              "    }\n",
              "  </style>\n",
              "\n",
              "      <script>\n",
              "        const buttonEl =\n",
              "          document.querySelector('#df-05ca5792-dd94-48a9-8cd9-17cfbc818bf1 button.colab-df-convert');\n",
              "        buttonEl.style.display =\n",
              "          google.colab.kernel.accessAllowed ? 'block' : 'none';\n",
              "\n",
              "        async function convertToInteractive(key) {\n",
              "          const element = document.querySelector('#df-05ca5792-dd94-48a9-8cd9-17cfbc818bf1');\n",
              "          const dataTable =\n",
              "            await google.colab.kernel.invokeFunction('convertToInteractive',\n",
              "                                                     [key], {});\n",
              "          if (!dataTable) return;\n",
              "\n",
              "          const docLinkHtml = 'Like what you see? Visit the ' +\n",
              "            '<a target=\"_blank\" href=https://colab.research.google.com/notebooks/data_table.ipynb>data table notebook</a>'\n",
              "            + ' to learn more about interactive tables.';\n",
              "          element.innerHTML = '';\n",
              "          dataTable['output_type'] = 'display_data';\n",
              "          await google.colab.output.renderOutput(dataTable, element);\n",
              "          const docLink = document.createElement('div');\n",
              "          docLink.innerHTML = docLinkHtml;\n",
              "          element.appendChild(docLink);\n",
              "        }\n",
              "      </script>\n",
              "    </div>\n",
              "  </div>\n"
            ]
          },
          "metadata": {},
          "execution_count": 14
        }
      ]
    },
    {
      "cell_type": "code",
      "source": [
        "# 3.1\n",
        "mobile_price.shape\n",
        "mobile_price.dtypes"
      ],
      "metadata": {
        "colab": {
          "base_uri": "https://localhost:8080/"
        },
        "id": "xWyWsyk6g1eg",
        "outputId": "9d1aca4e-e7f2-4e0d-e05f-78cd5a4a037b"
      },
      "execution_count": 12,
      "outputs": [
        {
          "output_type": "execute_result",
          "data": {
            "text/plain": [
              "(2000, 20)"
            ]
          },
          "metadata": {},
          "execution_count": 12
        },
        {
          "output_type": "execute_result",
          "data": {
            "text/plain": [
              "battery_power      int64\n",
              "blue               int64\n",
              "clock_speed      float64\n",
              "dual_sim           int64\n",
              "fc                 int64\n",
              "four_g             int64\n",
              "int_memory         int64\n",
              "m_dep            float64\n",
              "n_cores            int64\n",
              "pc                 int64\n",
              "px_height          int64\n",
              "px_width           int64\n",
              "ram                int64\n",
              "sc_h               int64\n",
              "sc_w               int64\n",
              "talk_time          int64\n",
              "three_g            int64\n",
              "touch_screen       int64\n",
              "wifi               int64\n",
              "price_range        int64\n",
              "dtype: object"
            ]
          },
          "metadata": {},
          "execution_count": 12
        }
      ]
    },
    {
      "cell_type": "code",
      "source": [
        "# 3.2 Get target and predictors:\n",
        "y = mobile_price.pop(\"mobile_wt\")\n",
        "X = mobile_price"
      ],
      "metadata": {
        "id": "W_mFmGWig5z5"
      },
      "execution_count": 15,
      "outputs": []
    },
    {
      "cell_type": "code",
      "source": [
        "# 4.0 Build model:\n",
        "\n",
        "model = tf.keras.Sequential()"
      ],
      "metadata": {
        "id": "RE1Mpauqg6Mw"
      },
      "execution_count": 16,
      "outputs": []
    },
    {
      "cell_type": "code",
      "source": [
        "# 4.1\n",
        "model.add(layers.Input( shape = (20,) ) )"
      ],
      "metadata": {
        "id": "Ti3G-UFpg8EU"
      },
      "execution_count": 17,
      "outputs": []
    },
    {
      "cell_type": "code",
      "source": [
        "# A new layer with 11 neurons\n",
        "model.add(layers.Input( shape = (20,) ))"
      ],
      "metadata": {
        "id": "RdXUEszug_Zj"
      },
      "execution_count": 18,
      "outputs": []
    },
    {
      "cell_type": "code",
      "source": [
        "# 4.2\n",
        "model.add(layers.Dense(1, activation=\"relu\"))"
      ],
      "metadata": {
        "id": "EmePSDZNhCkD"
      },
      "execution_count": 19,
      "outputs": []
    },
    {
      "cell_type": "code",
      "source": [
        "# 4.2.1\n",
        "weights, bias = model.weights"
      ],
      "metadata": {
        "id": "FUalpK4ShEm_"
      },
      "execution_count": 20,
      "outputs": []
    },
    {
      "cell_type": "code",
      "source": [
        "# 4.2.2\n",
        "weights"
      ],
      "metadata": {
        "colab": {
          "base_uri": "https://localhost:8080/"
        },
        "id": "gAEmmR8qhGLx",
        "outputId": "df519d21-b5c7-4181-cf18-e7510b906496"
      },
      "execution_count": 21,
      "outputs": [
        {
          "output_type": "execute_result",
          "data": {
            "text/plain": [
              "<tf.Variable 'dense/kernel:0' shape=(20, 1) dtype=float32, numpy=\n",
              "array([[ 0.13426834],\n",
              "       [ 0.26337826],\n",
              "       [-0.04696357],\n",
              "       [ 0.23272204],\n",
              "       [ 0.43138677],\n",
              "       [ 0.20315617],\n",
              "       [ 0.2749632 ],\n",
              "       [ 0.3660254 ],\n",
              "       [ 0.01073402],\n",
              "       [-0.24328783],\n",
              "       [-0.25683817],\n",
              "       [ 0.23036122],\n",
              "       [-0.24825138],\n",
              "       [ 0.14770752],\n",
              "       [-0.1938397 ],\n",
              "       [ 0.15348959],\n",
              "       [-0.30618602],\n",
              "       [-0.13033578],\n",
              "       [ 0.32358915],\n",
              "       [ 0.01304924]], dtype=float32)>"
            ]
          },
          "metadata": {},
          "execution_count": 21
        }
      ]
    },
    {
      "cell_type": "code",
      "source": [
        "# 4.2.3\n",
        "bias"
      ],
      "metadata": {
        "colab": {
          "base_uri": "https://localhost:8080/"
        },
        "id": "LQAyQC34hH6I",
        "outputId": "b3c3982f-f130-4849-d150-6455b51cffe0"
      },
      "execution_count": 22,
      "outputs": [
        {
          "output_type": "execute_result",
          "data": {
            "text/plain": [
              "<tf.Variable 'dense/bias:0' shape=(1,) dtype=float32, numpy=array([0.], dtype=float32)>"
            ]
          },
          "metadata": {},
          "execution_count": 22
        }
      ]
    },
    {
      "cell_type": "code",
      "source": [
        "#4.3 Compile\n",
        "model.compile( loss = \"mae\")"
      ],
      "metadata": {
        "id": "xpm-73v_hJlH"
      },
      "execution_count": 23,
      "outputs": []
    },
    {
      "cell_type": "code",
      "source": [
        "# 4.4 Train\n",
        "model.fit(X,y, epochs = 100 )"
      ],
      "metadata": {
        "colab": {
          "base_uri": "https://localhost:8080/"
        },
        "id": "ZWsbFv14hLQM",
        "outputId": "5338dbfc-542e-40ae-93be-d7c17063f93e"
      },
      "execution_count": 24,
      "outputs": [
        {
          "output_type": "stream",
          "name": "stdout",
          "text": [
            "Epoch 1/100\n",
            "63/63 [==============================] - 1s 2ms/step - loss: 126.1856\n",
            "Epoch 2/100\n",
            "63/63 [==============================] - 0s 2ms/step - loss: 122.9409\n",
            "Epoch 3/100\n",
            "63/63 [==============================] - 0s 2ms/step - loss: 119.0346\n",
            "Epoch 4/100\n",
            "63/63 [==============================] - 0s 2ms/step - loss: 107.1359\n",
            "Epoch 5/100\n",
            "63/63 [==============================] - 0s 1ms/step - loss: 88.4968\n",
            "Epoch 6/100\n",
            "63/63 [==============================] - 0s 2ms/step - loss: 67.1654\n",
            "Epoch 7/100\n",
            "63/63 [==============================] - 0s 1ms/step - loss: 51.4339\n",
            "Epoch 8/100\n",
            "63/63 [==============================] - 0s 1ms/step - loss: 43.2836\n",
            "Epoch 9/100\n",
            "63/63 [==============================] - 0s 2ms/step - loss: 39.5377\n",
            "Epoch 10/100\n",
            "63/63 [==============================] - 0s 1ms/step - loss: 38.1309\n",
            "Epoch 11/100\n",
            "63/63 [==============================] - 0s 1ms/step - loss: 37.8119\n",
            "Epoch 12/100\n",
            "63/63 [==============================] - 0s 1ms/step - loss: 37.4586\n",
            "Epoch 13/100\n",
            "63/63 [==============================] - 0s 1ms/step - loss: 37.0722\n",
            "Epoch 14/100\n",
            "63/63 [==============================] - 0s 1ms/step - loss: 37.0893\n",
            "Epoch 15/100\n",
            "63/63 [==============================] - 0s 1ms/step - loss: 37.0407\n",
            "Epoch 16/100\n",
            "63/63 [==============================] - 0s 2ms/step - loss: 37.0645\n",
            "Epoch 17/100\n",
            "63/63 [==============================] - 0s 1ms/step - loss: 37.0393\n",
            "Epoch 18/100\n",
            "63/63 [==============================] - 0s 1ms/step - loss: 36.8999\n",
            "Epoch 19/100\n",
            "63/63 [==============================] - 0s 1ms/step - loss: 36.7587\n",
            "Epoch 20/100\n",
            "63/63 [==============================] - 0s 1ms/step - loss: 36.7106\n",
            "Epoch 21/100\n",
            "63/63 [==============================] - 0s 1ms/step - loss: 36.4818\n",
            "Epoch 22/100\n",
            "63/63 [==============================] - 0s 1ms/step - loss: 36.5796\n",
            "Epoch 23/100\n",
            "63/63 [==============================] - 0s 2ms/step - loss: 36.4665\n",
            "Epoch 24/100\n",
            "63/63 [==============================] - 0s 1ms/step - loss: 36.4304\n",
            "Epoch 25/100\n",
            "63/63 [==============================] - 0s 1ms/step - loss: 36.3705\n",
            "Epoch 26/100\n",
            "63/63 [==============================] - 0s 1ms/step - loss: 36.1673\n",
            "Epoch 27/100\n",
            "63/63 [==============================] - 0s 2ms/step - loss: 36.3821\n",
            "Epoch 28/100\n",
            "63/63 [==============================] - 0s 1ms/step - loss: 36.1275\n",
            "Epoch 29/100\n",
            "63/63 [==============================] - 0s 1ms/step - loss: 36.1609\n",
            "Epoch 30/100\n",
            "63/63 [==============================] - 0s 1ms/step - loss: 36.0593\n",
            "Epoch 31/100\n",
            "63/63 [==============================] - 0s 1ms/step - loss: 35.9642\n",
            "Epoch 32/100\n",
            "63/63 [==============================] - 0s 1ms/step - loss: 36.0366\n",
            "Epoch 33/100\n",
            "63/63 [==============================] - 0s 1ms/step - loss: 35.9275\n",
            "Epoch 34/100\n",
            "63/63 [==============================] - 0s 1ms/step - loss: 35.9391\n",
            "Epoch 35/100\n",
            "63/63 [==============================] - 0s 1ms/step - loss: 35.8287\n",
            "Epoch 36/100\n",
            "63/63 [==============================] - 0s 1ms/step - loss: 35.7593\n",
            "Epoch 37/100\n",
            "63/63 [==============================] - 0s 2ms/step - loss: 35.8185\n",
            "Epoch 38/100\n",
            "63/63 [==============================] - 0s 1ms/step - loss: 35.6020\n",
            "Epoch 39/100\n",
            "63/63 [==============================] - 0s 1ms/step - loss: 35.6500\n",
            "Epoch 40/100\n",
            "63/63 [==============================] - 0s 2ms/step - loss: 35.6681\n",
            "Epoch 41/100\n",
            "63/63 [==============================] - 0s 1ms/step - loss: 35.6067\n",
            "Epoch 42/100\n",
            "63/63 [==============================] - 0s 1ms/step - loss: 35.5793\n",
            "Epoch 43/100\n",
            "63/63 [==============================] - 0s 1ms/step - loss: 35.5412\n",
            "Epoch 44/100\n",
            "63/63 [==============================] - 0s 2ms/step - loss: 35.4531\n",
            "Epoch 45/100\n",
            "63/63 [==============================] - 0s 1ms/step - loss: 35.4134\n",
            "Epoch 46/100\n",
            "63/63 [==============================] - 0s 1ms/step - loss: 35.4537\n",
            "Epoch 47/100\n",
            "63/63 [==============================] - 0s 1ms/step - loss: 35.2218\n",
            "Epoch 48/100\n",
            "63/63 [==============================] - 0s 2ms/step - loss: 35.4117\n",
            "Epoch 49/100\n",
            "63/63 [==============================] - 0s 1ms/step - loss: 35.3261\n",
            "Epoch 50/100\n",
            "63/63 [==============================] - 0s 1ms/step - loss: 35.3566\n",
            "Epoch 51/100\n",
            "63/63 [==============================] - 0s 1ms/step - loss: 35.3189\n",
            "Epoch 52/100\n",
            "63/63 [==============================] - 0s 2ms/step - loss: 35.2807\n",
            "Epoch 53/100\n",
            "63/63 [==============================] - 0s 1ms/step - loss: 35.3302\n",
            "Epoch 54/100\n",
            "63/63 [==============================] - 0s 1ms/step - loss: 35.2629\n",
            "Epoch 55/100\n",
            "63/63 [==============================] - 0s 1ms/step - loss: 35.1614\n",
            "Epoch 56/100\n",
            "63/63 [==============================] - 0s 2ms/step - loss: 35.2743\n",
            "Epoch 57/100\n",
            "63/63 [==============================] - 0s 1ms/step - loss: 35.0825\n",
            "Epoch 58/100\n",
            "63/63 [==============================] - 0s 2ms/step - loss: 35.1213\n",
            "Epoch 59/100\n",
            "63/63 [==============================] - 0s 1ms/step - loss: 35.1921\n",
            "Epoch 60/100\n",
            "63/63 [==============================] - 0s 1ms/step - loss: 35.0123\n",
            "Epoch 61/100\n",
            "63/63 [==============================] - 0s 1ms/step - loss: 35.0700\n",
            "Epoch 62/100\n",
            "63/63 [==============================] - 0s 2ms/step - loss: 35.0031\n",
            "Epoch 63/100\n",
            "63/63 [==============================] - 0s 2ms/step - loss: 35.0075\n",
            "Epoch 64/100\n",
            "63/63 [==============================] - 0s 1ms/step - loss: 34.9234\n",
            "Epoch 65/100\n",
            "63/63 [==============================] - 0s 1ms/step - loss: 34.9358\n",
            "Epoch 66/100\n",
            "63/63 [==============================] - 0s 1ms/step - loss: 35.0202\n",
            "Epoch 67/100\n",
            "63/63 [==============================] - 0s 2ms/step - loss: 34.8458\n",
            "Epoch 68/100\n",
            "63/63 [==============================] - 0s 2ms/step - loss: 34.9981\n",
            "Epoch 69/100\n",
            "63/63 [==============================] - 0s 1ms/step - loss: 34.8422\n",
            "Epoch 70/100\n",
            "63/63 [==============================] - 0s 1ms/step - loss: 34.8924\n",
            "Epoch 71/100\n",
            "63/63 [==============================] - 0s 1ms/step - loss: 34.7862\n",
            "Epoch 72/100\n",
            "63/63 [==============================] - 0s 1ms/step - loss: 34.7281\n",
            "Epoch 73/100\n",
            "63/63 [==============================] - 0s 1ms/step - loss: 34.8697\n",
            "Epoch 74/100\n",
            "63/63 [==============================] - 0s 1ms/step - loss: 34.7915\n",
            "Epoch 75/100\n",
            "63/63 [==============================] - 0s 1ms/step - loss: 34.8331\n",
            "Epoch 76/100\n",
            "63/63 [==============================] - 0s 1ms/step - loss: 34.8177\n",
            "Epoch 77/100\n",
            "63/63 [==============================] - 0s 1ms/step - loss: 34.7385\n",
            "Epoch 78/100\n",
            "63/63 [==============================] - 0s 1ms/step - loss: 34.7951\n",
            "Epoch 79/100\n",
            "63/63 [==============================] - 0s 1ms/step - loss: 34.6880\n",
            "Epoch 80/100\n",
            "63/63 [==============================] - 0s 2ms/step - loss: 34.8668\n",
            "Epoch 81/100\n",
            "63/63 [==============================] - 0s 1ms/step - loss: 34.7236\n",
            "Epoch 82/100\n",
            "63/63 [==============================] - 0s 1ms/step - loss: 34.6403\n",
            "Epoch 83/100\n",
            "63/63 [==============================] - 0s 1ms/step - loss: 34.5993\n",
            "Epoch 84/100\n",
            "63/63 [==============================] - 0s 1ms/step - loss: 34.7897\n",
            "Epoch 85/100\n",
            "63/63 [==============================] - 0s 1ms/step - loss: 34.6590\n",
            "Epoch 86/100\n",
            "63/63 [==============================] - 0s 1ms/step - loss: 34.6967\n",
            "Epoch 87/100\n",
            "63/63 [==============================] - 0s 1ms/step - loss: 34.7455\n",
            "Epoch 88/100\n",
            "63/63 [==============================] - 0s 1ms/step - loss: 34.5606\n",
            "Epoch 89/100\n",
            "63/63 [==============================] - 0s 2ms/step - loss: 34.5472\n",
            "Epoch 90/100\n",
            "63/63 [==============================] - 0s 1ms/step - loss: 34.6408\n",
            "Epoch 91/100\n",
            "63/63 [==============================] - 0s 1ms/step - loss: 34.5519\n",
            "Epoch 92/100\n",
            "63/63 [==============================] - 0s 1ms/step - loss: 34.4486\n",
            "Epoch 93/100\n",
            "63/63 [==============================] - 0s 1ms/step - loss: 34.4495\n",
            "Epoch 94/100\n",
            "63/63 [==============================] - 0s 1ms/step - loss: 34.6866\n",
            "Epoch 95/100\n",
            "63/63 [==============================] - 0s 1ms/step - loss: 34.5780\n",
            "Epoch 96/100\n",
            "63/63 [==============================] - 0s 2ms/step - loss: 34.6741\n",
            "Epoch 97/100\n",
            "63/63 [==============================] - 0s 1ms/step - loss: 34.4831\n",
            "Epoch 98/100\n",
            "63/63 [==============================] - 0s 1ms/step - loss: 34.6506\n",
            "Epoch 99/100\n",
            "63/63 [==============================] - 0s 2ms/step - loss: 34.5501\n",
            "Epoch 100/100\n",
            "63/63 [==============================] - 0s 1ms/step - loss: 34.4448\n"
          ]
        },
        {
          "output_type": "execute_result",
          "data": {
            "text/plain": [
              "<keras.callbacks.History at 0x7ce205a88eb0>"
            ]
          },
          "metadata": {},
          "execution_count": 24
        }
      ]
    },
    {
      "cell_type": "code",
      "source": [
        "# 5.0 Predict\n",
        "pred = model.predict(X)"
      ],
      "metadata": {
        "colab": {
          "base_uri": "https://localhost:8080/"
        },
        "id": "9hETnxyFhNJm",
        "outputId": "e41d4735-310b-4b0f-997a-1cd68f804a19"
      },
      "execution_count": 25,
      "outputs": [
        {
          "output_type": "stream",
          "name": "stdout",
          "text": [
            "63/63 [==============================] - 1s 2ms/step\n"
          ]
        }
      ]
    },
    {
      "cell_type": "code",
      "source": [
        "# 5.1 Round up decimal places\n",
        "pred = np.round(pred)"
      ],
      "metadata": {
        "id": "velp3oTLhPOa"
      },
      "execution_count": 26,
      "outputs": []
    },
    {
      "cell_type": "code",
      "source": [
        "# 5.1.1\n",
        "y.shape"
      ],
      "metadata": {
        "colab": {
          "base_uri": "https://localhost:8080/"
        },
        "id": "saKP1JT0hPri",
        "outputId": "bc578ffb-86a6-4f03-eef7-0f7f87f1187f"
      },
      "execution_count": 27,
      "outputs": [
        {
          "output_type": "execute_result",
          "data": {
            "text/plain": [
              "(2000,)"
            ]
          },
          "metadata": {},
          "execution_count": 27
        }
      ]
    },
    {
      "cell_type": "code",
      "source": [
        "# 5.2 Compare:\n",
        "np.sum(pred == y.values.reshape(2000,1))/2000"
      ],
      "metadata": {
        "colab": {
          "base_uri": "https://localhost:8080/"
        },
        "id": "2xu6zP2zhShz",
        "outputId": "17be2d2e-329a-4fd5-89dc-bb0c0943c255"
      },
      "execution_count": 28,
      "outputs": [
        {
          "output_type": "execute_result",
          "data": {
            "text/plain": [
              "0.005"
            ]
          },
          "metadata": {},
          "execution_count": 28
        }
      ]
    }
  ]
}